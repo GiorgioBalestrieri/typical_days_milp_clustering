{
 "cells": [
  {
   "cell_type": "markdown",
   "metadata": {},
   "source": [
    "# Constrained MILP Clustering - USA Single site"
   ]
  },
  {
   "cell_type": "code",
   "execution_count": 1,
   "metadata": {},
   "outputs": [],
   "source": [
    "from pathlib import Path\n",
    "import numpy as np\n",
    "import pandas as pd\n",
    "\n",
    "from IPython.display import display\n",
    "\n",
    "from matplotlib import pyplot as plt\n",
    "import seaborn as sns\n",
    "%matplotlib inline\n",
    "plt.style.use('ggplot')\n",
    "\n",
    "input_path = Path('../US_building_energy_demand_prep/data/US_single_site_preprocessed')\n",
    "output_path = Path('results')\n",
    "graphs_path = Path('results')"
   ]
  },
  {
   "cell_type": "markdown",
   "metadata": {},
   "source": [
    "### Import data"
   ]
  },
  {
   "cell_type": "code",
   "execution_count": 2,
   "metadata": {},
   "outputs": [],
   "source": [
    "def get_input_prefix(state, n_households):\n",
    "    return '{}_{}_'.format(state, n_households)"
   ]
  },
  {
   "cell_type": "code",
   "execution_count": 3,
   "metadata": {},
   "outputs": [],
   "source": [
    "def load_preprocessed_data(state, n_households, year=2015, properties=['cooling', 'heating', 'electricity']):\n",
    "    \n",
    "    start = pd.datetime(year,1,1)\n",
    "    end   = pd.datetime(year+1,1,1)\n",
    "    index = pd.DatetimeIndex(start=start, end=end, freq='h')[:-1]\n",
    "\n",
    "    prefix = get_input_prefix(state, n_households)\n",
    "    \n",
    "    d = {}\n",
    "    \n",
    "    for prop in properties:\n",
    "        _filename = prefix + prop + '.csv'\n",
    "        d[prop] = pd.read_csv(input_path / _filename, header=None, squeeze=True)\n",
    "\n",
    "    df = pd.concat(d.values(), axis=1, keys=d.keys())\n",
    "    df.set_index(index, inplace=True)\n",
    "    \n",
    "    return df"
   ]
  },
  {
   "cell_type": "code",
   "execution_count": 4,
   "metadata": {},
   "outputs": [],
   "source": [
    "state = 'NY'\n",
    "n_households = 45\n",
    "year = 2015\n",
    "properties = ['cooling', 'heating', 'electricity']\n",
    "\n",
    "df = load_preprocessed_data(state, n_households, year, properties)"
   ]
  },
  {
   "cell_type": "markdown",
   "metadata": {},
   "source": [
    "### import distance data"
   ]
  },
  {
   "cell_type": "code",
   "execution_count": 5,
   "metadata": {},
   "outputs": [],
   "source": [
    "def load_distance_data(state, n_households):\n",
    "    \n",
    "    prefix = get_input_prefix(state, n_households)\n",
    "    _filename = prefix + 'distance.csv'\n",
    "    \n",
    "    dist = np.loadtxt(input_path / _filename, delimiter=',')\n",
    "    n_days = dist.shape[0]\n",
    "    \n",
    "    dist_df = pd.DataFrame(dist, index=np.arange(n_days)+1, columns=np.arange(n_days)+1)\n",
    "    \n",
    "    return dist_df, n_days"
   ]
  },
  {
   "cell_type": "code",
   "execution_count": 6,
   "metadata": {},
   "outputs": [],
   "source": [
    "dist_df, n_days = load_distance_data(state, n_households)"
   ]
  },
  {
   "cell_type": "markdown",
   "metadata": {},
   "source": [
    "### Cluster"
   ]
  },
  {
   "cell_type": "code",
   "execution_count": 7,
   "metadata": {},
   "outputs": [],
   "source": [
    "import k_medoids_constrained as clustering\n",
    "import clustering_utils as utils\n",
    "\n",
    "from pyomo import environ as pe"
   ]
  },
  {
   "cell_type": "code",
   "execution_count": 8,
   "metadata": {},
   "outputs": [],
   "source": [
    "daily_df = df.groupby(pd.Grouper(freq='d')).agg(['sum', 'max']).rename_axis(['property', 'metric'], axis=1)\n",
    "daily_df.index = daily_df.index.dayofyear\n",
    "daily_df = daily_df.rename_axis('day').stack(level='property').reorder_levels(['property', 'day'])"
   ]
  },
  {
   "cell_type": "code",
   "execution_count": 9,
   "metadata": {},
   "outputs": [],
   "source": [
    "_n_days = 365\n",
    "\n",
    "_input_df = daily_df[daily_df.index.get_level_values('day') <= _n_days]\n",
    "\n",
    "_dist_df = dist_df.loc[:_n_days, :_n_days]"
   ]
  },
  {
   "cell_type": "code",
   "execution_count": 10,
   "metadata": {},
   "outputs": [],
   "source": [
    "n_clusters = 6\n",
    "n_extreme_days = 6\n",
    "rel_tol = 0.05\n",
    "rel_tol_d = {prop:rel_tol for prop in df.columns}\n",
    "min_peak_share = 0.95\n",
    "min_peak_share_d = {prop:min_peak_share for prop in properties}\n",
    "\n",
    "data = dict(\n",
    "    n_days = _n_days,\n",
    "    n_clusters = n_clusters,\n",
    "    n_extreme_days = n_extreme_days,\n",
    "    distance = _dist_df.stack().to_dict(),\n",
    "    Properties = df.columns.tolist(),\n",
    "    x_daily_tot = _input_df['sum'].to_dict(),\n",
    "    x_daily_max = _input_df['max'].to_dict(),\n",
    "    x_max = _input_df['max'].max(level='property').to_dict(),\n",
    "    rel_tol = rel_tol_d,\n",
    "    min_peak_share = min_peak_share_d\n",
    ")\n",
    "\n",
    "data = utils.get_pyomo_input_dictionary(data)"
   ]
  },
  {
   "cell_type": "code",
   "execution_count": 11,
   "metadata": {},
   "outputs": [],
   "source": [
    "m = clustering.create_model(preserve_total_values=True, preserve_peak_values=False)\n",
    "\n",
    "cm = m.create_instance(data=data)"
   ]
  },
  {
   "cell_type": "code",
   "execution_count": 12,
   "metadata": {},
   "outputs": [
    {
     "name": "stdout",
     "output_type": "stream",
     "text": [
      "Job 6090121 submitted to NEOS, password='SZWrCkcY'\n",
      "Check the following URL for progress report :\n",
      "https://www.neos-server.org/neos/cgi-bin/nph-neos-solver.cgi?admin=results&jobnumber=6090121&pass=SZWrCkcY\n",
      "Job 6090121 dispatched\n",
      "password: SZWrCkcY\n",
      "---------- Begin Solver Output -----------\n"
     ]
    }
   ],
   "source": [
    "with pe.SolverFactory(\"cplex\") as opt:\n",
    "\n",
    "    solver_manager = pe.SolverManagerFactory('neos')\n",
    "\n",
    "    results = solver_manager.solve(cm, opt=opt)\n",
    "\n",
    "cm.solutions.load_from(results)"
   ]
  },
  {
   "cell_type": "markdown",
   "metadata": {},
   "source": [
    "### Extract results"
   ]
  },
  {
   "cell_type": "code",
   "execution_count": 13,
   "metadata": {},
   "outputs": [],
   "source": [
    "y = pd.Series(cm.y.get_values())\n",
    "z = pd.Series(cm.z.get_values()).unstack()\n",
    "\n",
    "# get dictionary like k:representative_day\n",
    "clusters_repr_d = dict(enumerate(y.index[y>0]))\n",
    "\n",
    "# get dictionary like k: [list of represented days]\n",
    "clusters_members_d = {k: z.index[z.loc[rep,:] > 0].tolist() \n",
    "                      for k, rep in clusters_repr_d.items()}\n",
    "\n",
    "# get dictionary like d:k -- value is n_clusters if the day is extreme\n",
    "day_to_cluster_d = dict(zip(np.arange(n_days)+1, np.ones(n_days)*n_clusters))\n",
    "day_to_cluster_d.update({d:k for k, l in clusters_members_d.items() for d in l})\n",
    "\n",
    "# get series like day_of_year:k\n",
    "labeled = pd.Series(day_to_cluster_d).sort_index()"
   ]
  },
  {
   "cell_type": "markdown",
   "metadata": {},
   "source": [
    "### save results"
   ]
  },
  {
   "cell_type": "code",
   "execution_count": 14,
   "metadata": {},
   "outputs": [],
   "source": [
    "def get_output_prefix(state, n_households, n_clusters, n_extreme_days):\n",
    "    \n",
    "    prefix = get_input_prefix(state, n_households)\n",
    "    output_prefix = prefix + '{}k_{}ed_'.format(n_clusters, n_extreme_days)\n",
    "    \n",
    "    return output_prefix"
   ]
  },
  {
   "cell_type": "code",
   "execution_count": 15,
   "metadata": {},
   "outputs": [],
   "source": [
    "output_prefix = get_output_prefix(state, n_households, n_clusters, n_extreme_days)\n",
    "\n",
    "y.to_csv(output_path / (output_prefix + 'y.csv'), index=True)\n",
    "z.to_csv(output_path / (output_prefix + 'z.csv'), index=True)"
   ]
  },
  {
   "cell_type": "markdown",
   "metadata": {},
   "source": [
    "### get weekly calendar"
   ]
  },
  {
   "cell_type": "code",
   "execution_count": 16,
   "metadata": {},
   "outputs": [],
   "source": [
    "# get dict like d:repr\n",
    "day_to_repr_d = {d: clusters_repr_d.get(k, d) for d, k in day_to_cluster_d.items()}\n",
    "\n",
    "start = pd.datetime(year, 1, 1)\n",
    "end   = pd.datetime(year+1, 1, 1)\n",
    "index = pd.DatetimeIndex(start=start, end=end, freq='d', closed='left')\n",
    "\n",
    "labeled = pd.Series(labeled.values, index=index, dtype=int)\n",
    "\n",
    "weekly_df = labeled.rename('cluster').to_frame() \\\n",
    "    .assign(dayofweek=labeled.index.weekday, week=labeled.index.weekofyear) \\\n",
    "    .set_index(['dayofweek', 'week']).cluster.unstack(level=0)\n",
    "\n",
    "representative_ts = pd.Series(y.values, index=index, dtype=int)\n",
    "\n",
    "weekly_repr_df = representative_ts.rename('cluster').to_frame() \\\n",
    "    .assign(dayofweek=representative_ts.index.weekday, week=representative_ts.index.weekofyear) \\\n",
    "    .set_index(['dayofweek', 'week']).cluster.unstack(level=0)"
   ]
  },
  {
   "cell_type": "markdown",
   "metadata": {},
   "source": [
    "### Plot calendar"
   ]
  },
  {
   "cell_type": "code",
   "execution_count": 17,
   "metadata": {},
   "outputs": [
    {
     "data": {
      "image/png": "[encoded data removed]",
      "text/plain": [
       "<Figure size 576x576 with 2 Axes>"
      ]
     },
     "metadata": {},
     "output_type": "display_data"
    }
   ],
   "source": [
    "cmap = plt.get_cmap('viridis', n_clusters)\n",
    "\n",
    "# set color for extreme days (use vmax in heatmap to make this work)\n",
    "cmap.set_over('r')\n",
    "\n",
    "# gridspec_kw={'width_ratios' :[10, 1]}\n",
    "fig, ax = plt.subplots(figsize=(8,8))\n",
    "\n",
    "sns.heatmap(\n",
    "    weekly_df, \n",
    "    cmap=cmap, vmin=0, vmax=n_clusters-1, \n",
    "    linecolor='w', linewidths=0.01, square=True,\n",
    "    alpha=0.7,\n",
    "    cbar_kws={'fraction' :0.02}, ax=ax\n",
    ")\n",
    "\n",
    "sns.heatmap(\n",
    "    weekly_df.where(weekly_repr_df==1),         \n",
    "    cmap=cmap, vmin=0, vmax=n_clusters-1,         \n",
    "    linecolor='w', linewidths=0.01, square=True,        \n",
    "    alpha=1,        \n",
    "    annot=True,        \n",
    "    cbar=None\n",
    ")\n",
    "\n",
    "cbar = ax.collections[0].colorbar\n",
    "cbar.set_ticks((np.arange(n_clusters) + 0.5)*(n_clusters-1)/n_clusters)\n",
    "cbar.set_ticklabels(range(n_clusters))\n",
    "cbar.set_label('Cluster');\n",
    "\n",
    "ax.set_yticklabels(ax.get_yticklabels(), rotation='horizontal')\n",
    "ax.set_facecolor('white')\n",
    "\n",
    "# _filename = output_prefix + 'calendar.png'\n",
    "# fig.savefig(graphs_path / _filename, dpi=400)"
   ]
  },
  {
   "cell_type": "markdown",
   "metadata": {},
   "source": [
    "### Plot LDC"
   ]
  },
  {
   "cell_type": "code",
   "execution_count": 18,
   "metadata": {},
   "outputs": [],
   "source": [
    "# get dataframe with days (days as columns, time/measure as rows)\n",
    "\n",
    "days_df = df.assign(\n",
    "    date=df.index.date, \n",
    "    time=df.index.time\n",
    ").rename_axis('measure', axis=1) \\\n",
    "    .set_index(['date', 'time']) \\\n",
    "    .stack().unstack(level=0)"
   ]
  },
  {
   "cell_type": "code",
   "execution_count": 19,
   "metadata": {},
   "outputs": [
    {
     "data": {
      "text/plain": [
       "measure\n",
       "cooling        0.972587\n",
       "heating        0.978674\n",
       "electricity    1.004483\n",
       "dtype: float64"
      ]
     },
     "metadata": {},
     "output_type": "display_data"
    }
   ],
   "source": [
    "# get dataframe of days replaced by their representative day\n",
    "\n",
    "synth_days_df = pd.concat({d:days_df.iloc[:,day_to_repr_d[d] - 1] \n",
    "                           for d in days_df.columns.dayofyear}\n",
    "                         ).unstack(level=0)\n",
    "\n",
    "synth_days_df.columns = days_df.columns\n",
    "\n",
    "display(synth_days_df.stack().unstack(level='measure').sum()/days_df.stack().unstack(level='measure').sum())"
   ]
  },
  {
   "cell_type": "code",
   "execution_count": 20,
   "metadata": {},
   "outputs": [],
   "source": [
    "# get LDC and synth_LDC\n",
    "ldc_d = {}\n",
    "synth_ldc_d = {}\n",
    "\n",
    "for prop in properties:\n",
    "    \n",
    "    ldc_d[prop] = df[prop].sort_values(ascending=False).reset_index(drop=True)\n",
    "    \n",
    "    synth_ldc_d[prop] = synth_days_df.xs(prop, level='measure').stack() \\\n",
    "        .sort_values(ascending=False).reset_index(drop=True)\n",
    "\n",
    "ldc_df = pd.concat(ldc_d.values(), keys=ldc_d.keys(), axis=1)\n",
    "synth_ldc_df = pd.concat(synth_ldc_d.values(), keys=synth_ldc_d.keys(), axis=1)\n",
    "\n",
    "# _filename = output_prefix + 'ldc.csv'\n",
    "# ldc_df.to_csv(output_path / _filename, index=True)\n",
    "\n",
    "# _filename = output_prefix + 'ldc_clustered.csv'\n",
    "# synth_ldc_df.to_csv(output_path / _filename, index=True)"
   ]
  },
  {
   "cell_type": "code",
   "execution_count": 21,
   "metadata": {},
   "outputs": [
    {
     "data": {
      "image/png": "[encoded data removed]",
      "text/plain": [
       "<Figure size 864x864 with 3 Axes>"
      ]
     },
     "metadata": {},
     "output_type": "display_data"
    }
   ],
   "source": [
    "fig, axes = plt.subplots(len(ldc_df.columns), figsize=(12,12))\n",
    "\n",
    "for i, measure in enumerate(ldc_df.columns):\n",
    "    \n",
    "    ldc_df[measure].plot(ax=axes[i], label='LDC')\n",
    "    synth_ldc_df[measure].plot(ax=axes[i], label='clustered LDC')\n",
    "    \n",
    "    axes[i].set_title(measure.title())\n",
    "    axes[i].legend();\n",
    "    axes[i].set_ylabel('kW');\n",
    "    \n",
    "    # _filename = output_prefix + 'LDC_plot.png'\n",
    "    # fig.savefig(graphs_path / _filename, dpi=400)"
   ]
  }
 ],
 "metadata": {
  "kernelspec": {
   "display_name": "Python 3",
   "language": "python",
   "name": "python3"
  },
  "language_info": {
   "codemirror_mode": {
    "name": "ipython",
    "version": 3
   },
   "file_extension": ".py",
   "mimetype": "text/x-python",
   "name": "python",
   "nbconvert_exporter": "python",
   "pygments_lexer": "ipython3",
   "version": "3.6.4"
  }
 },
 "nbformat": 4,
 "nbformat_minor": 2
}
